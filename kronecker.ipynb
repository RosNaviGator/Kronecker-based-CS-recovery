{
 "cells": [
  {
   "cell_type": "code",
   "execution_count": null,
   "metadata": {},
   "outputs": [],
   "source": [
    "N = 2 ** 4\n",
    "M = N // 4\n",
    "\n",
    "# Generate a deterministic DBBD matrix\n",
    "A = generate_DBDD_matrix(M, N)\n",
    "print('DBDD:')\n",
    "printFormatted(A)\n",
    "\n",
    "# Generate a random Gaussian matrix\n",
    "B = generate_random_matrix(M, N, matrix_type='gaussian')\n",
    "print('Gaussian:')\n",
    "printFormatted(B)\n",
    "\n",
    "\n",
    "# Generate a random scaled binary matrix\n",
    "C = generate_random_matrix(M, N, matrix_type='scaled_binary')\n",
    "print('Scaled binary:')\n",
    "printFormatted(C)\n",
    "\n",
    "# Generate a random unscaled binary matrix\n",
    "D = generate_random_matrix(M, N, matrix_type='unscaled_binary')\n",
    "print('Unscaled binary:')\n",
    "printFormatted(D)\n"
   ]
  },
  {
   "cell_type": "markdown",
   "metadata": {},
   "source": [
    "#### Generate dictionary"
   ]
  },
  {
   "cell_type": "code",
   "execution_count": null,
   "metadata": {},
   "outputs": [],
   "source": [
    "DIM = 16\n",
    "\n",
    "# Generate dictionary\n",
    "A = generate_dct_dictionary(DIM)  # test what you want\n",
    "print(f'Dictionary shape: {A.shape}')\n",
    "print()\n",
    "\n",
    "# Orthonormality test\n",
    "print(\"Orthonormality test\")\n",
    "\n",
    "# Check orthogonality\n",
    "rankA = np.linalg.matrix_rank(A)\n",
    "#print(f'Rank of A: {rankA}')\n",
    "if A.shape[0] == rankA or A.shape[1] == rankA:\n",
    "    print(\"Matrix A is full rank.\")\n",
    "\n",
    "# Check normalization\n",
    "is_normalized = check_normalization(A)\n",
    "print(f\"Matrix A is normalized: {is_normalized}\")\n",
    "is_normalized = check_normalization(A.T)\n",
    "print(f\"Matrix A^T is normalized: {is_normalized}\")\n",
    "print()\n",
    "\n",
    "# Coherence test\n",
    "print(\"Coherence test\")\n",
    "coherence = compute_coherence(A)\n",
    "print(f'Coherence: {coherence}')\n"
   ]
  }
 ],
 "metadata": {
  "kernelspec": {
   "display_name": ".namlVenv",
   "language": "python",
   "name": "python3"
  },
  "language_info": {
   "codemirror_mode": {
    "name": "ipython",
    "version": 3
   },
   "file_extension": ".py",
   "mimetype": "text/x-python",
   "name": "python",
   "nbconvert_exporter": "python",
   "pygments_lexer": "ipython3",
   "version": "3.12.3"
  }
 },
 "nbformat": 4,
 "nbformat_minor": 2
}
